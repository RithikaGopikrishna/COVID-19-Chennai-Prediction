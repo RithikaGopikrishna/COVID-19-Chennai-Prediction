{
  "nbformat": 4,
  "nbformat_minor": 0,
  "metadata": {
    "colab": {
      "name": "Covid_Chennai_Prediction",
      "provenance": [],
      "collapsed_sections": [
        "VQxEqXTIF_Td",
        "zq7pQukaEtuk",
        "UXfBbMM0E4sX"
      ]
    },
    "kernelspec": {
      "name": "python3",
      "display_name": "Python 3"
    }
  },
  "cells": [
    {
      "cell_type": "markdown",
      "metadata": {
        "id": "NtRlpZxbD-h3",
        "colab_type": "text"
      },
      "source": [
        "#COVID 19 - *Comparison between cases with lockdown and without lockdown in Chennai*"
      ]
    },
    {
      "cell_type": "markdown",
      "metadata": {
        "id": "VQxEqXTIF_Td",
        "colab_type": "text"
      },
      "source": [
        "## Importing"
      ]
    },
    {
      "cell_type": "code",
      "metadata": {
        "id": "t8o6-atImeln",
        "colab_type": "code",
        "colab": {}
      },
      "source": [
        " import pandas as pd\n",
        " import matplotlib.pyplot as plt\n",
        " %matplotlib inline\n",
        " import seaborn as sns\n",
        " import plotly.express as px\n",
        " import plotly.graph_objects as go\n",
        " import folium\n",
        " from folium import plugins"
      ],
      "execution_count": 320,
      "outputs": []
    },
    {
      "cell_type": "code",
      "metadata": {
        "id": "D-54RsPim4-b",
        "colab_type": "code",
        "colab": {}
      },
      "source": [
        "import pandas.util.testing as tm"
      ],
      "execution_count": 321,
      "outputs": []
    },
    {
      "cell_type": "markdown",
      "metadata": {
        "id": "zq7pQukaEtuk",
        "colab_type": "text"
      },
      "source": [
        "##Reading the dataset"
      ]
    },
    {
      "cell_type": "code",
      "metadata": {
        "id": "VoN3NDCGnRk1",
        "colab_type": "code",
        "colab": {
          "base_uri": "https://localhost:8080/",
          "height": 402
        },
        "outputId": "72341a1f-4a77-473c-98c7-bea4e5869584"
      },
      "source": [
        "df= pd.read_excel('/content/chennai.xlsx')\n",
        "df_chennai = df.copy()\n",
        "df"
      ],
      "execution_count": 322,
      "outputs": [
        {
          "output_type": "execute_result",
          "data": {
            "text/html": [
              "<div>\n",
              "<style scoped>\n",
              "    .dataframe tbody tr th:only-of-type {\n",
              "        vertical-align: middle;\n",
              "    }\n",
              "\n",
              "    .dataframe tbody tr th {\n",
              "        vertical-align: top;\n",
              "    }\n",
              "\n",
              "    .dataframe thead th {\n",
              "        text-align: right;\n",
              "    }\n",
              "</style>\n",
              "<table border=\"1\" class=\"dataframe\">\n",
              "  <thead>\n",
              "    <tr style=\"text-align: right;\">\n",
              "      <th></th>\n",
              "      <th>DATE</th>\n",
              "      <th>confirmed</th>\n",
              "      <th>deceased</th>\n",
              "      <th>recovered</th>\n",
              "    </tr>\n",
              "  </thead>\n",
              "  <tbody>\n",
              "    <tr>\n",
              "      <th>0</th>\n",
              "      <td>2020-04-01</td>\n",
              "      <td>234</td>\n",
              "      <td>1</td>\n",
              "      <td>6</td>\n",
              "    </tr>\n",
              "    <tr>\n",
              "      <th>1</th>\n",
              "      <td>2020-04-02</td>\n",
              "      <td>309</td>\n",
              "      <td>1</td>\n",
              "      <td>6</td>\n",
              "    </tr>\n",
              "    <tr>\n",
              "      <th>2</th>\n",
              "      <td>2020-04-03</td>\n",
              "      <td>411</td>\n",
              "      <td>1</td>\n",
              "      <td>6</td>\n",
              "    </tr>\n",
              "    <tr>\n",
              "      <th>3</th>\n",
              "      <td>2020-04-04</td>\n",
              "      <td>485</td>\n",
              "      <td>3</td>\n",
              "      <td>8</td>\n",
              "    </tr>\n",
              "    <tr>\n",
              "      <th>4</th>\n",
              "      <td>2020-04-05</td>\n",
              "      <td>571</td>\n",
              "      <td>5</td>\n",
              "      <td>8</td>\n",
              "    </tr>\n",
              "    <tr>\n",
              "      <th>...</th>\n",
              "      <td>...</td>\n",
              "      <td>...</td>\n",
              "      <td>...</td>\n",
              "      <td>...</td>\n",
              "    </tr>\n",
              "    <tr>\n",
              "      <th>70</th>\n",
              "      <td>2020-06-10</td>\n",
              "      <td>25937</td>\n",
              "      <td>257</td>\n",
              "      <td>12591</td>\n",
              "    </tr>\n",
              "    <tr>\n",
              "      <th>71</th>\n",
              "      <td>2020-06-11</td>\n",
              "      <td>27398</td>\n",
              "      <td>276</td>\n",
              "      <td>13808</td>\n",
              "    </tr>\n",
              "    <tr>\n",
              "      <th>72</th>\n",
              "      <td>2020-06-12</td>\n",
              "      <td>28924</td>\n",
              "      <td>291</td>\n",
              "      <td>14723</td>\n",
              "    </tr>\n",
              "    <tr>\n",
              "      <th>73</th>\n",
              "      <td>2020-06-13</td>\n",
              "      <td>30444</td>\n",
              "      <td>314</td>\n",
              "      <td>15947</td>\n",
              "    </tr>\n",
              "    <tr>\n",
              "      <th>74</th>\n",
              "      <td>2020-06-14</td>\n",
              "      <td>31896</td>\n",
              "      <td>344</td>\n",
              "      <td>16881</td>\n",
              "    </tr>\n",
              "  </tbody>\n",
              "</table>\n",
              "<p>75 rows × 4 columns</p>\n",
              "</div>"
            ],
            "text/plain": [
              "         DATE  confirmed  deceased  recovered\n",
              "0  2020-04-01        234         1          6\n",
              "1  2020-04-02        309         1          6\n",
              "2  2020-04-03        411         1          6\n",
              "3  2020-04-04        485         3          8\n",
              "4  2020-04-05        571         5          8\n",
              "..        ...        ...       ...        ...\n",
              "70 2020-06-10      25937       257      12591\n",
              "71 2020-06-11      27398       276      13808\n",
              "72 2020-06-12      28924       291      14723\n",
              "73 2020-06-13      30444       314      15947\n",
              "74 2020-06-14      31896       344      16881\n",
              "\n",
              "[75 rows x 4 columns]"
            ]
          },
          "metadata": {
            "tags": []
          },
          "execution_count": 322
        }
      ]
    },
    {
      "cell_type": "code",
      "metadata": {
        "id": "AbrurvlkqcKp",
        "colab_type": "code",
        "colab": {
          "base_uri": "https://localhost:8080/",
          "height": 195
        },
        "outputId": "cf96cdfe-7e33-4258-8bc1-4016cba9400b"
      },
      "source": [
        "df.head()"
      ],
      "execution_count": 323,
      "outputs": [
        {
          "output_type": "execute_result",
          "data": {
            "text/html": [
              "<div>\n",
              "<style scoped>\n",
              "    .dataframe tbody tr th:only-of-type {\n",
              "        vertical-align: middle;\n",
              "    }\n",
              "\n",
              "    .dataframe tbody tr th {\n",
              "        vertical-align: top;\n",
              "    }\n",
              "\n",
              "    .dataframe thead th {\n",
              "        text-align: right;\n",
              "    }\n",
              "</style>\n",
              "<table border=\"1\" class=\"dataframe\">\n",
              "  <thead>\n",
              "    <tr style=\"text-align: right;\">\n",
              "      <th></th>\n",
              "      <th>DATE</th>\n",
              "      <th>confirmed</th>\n",
              "      <th>deceased</th>\n",
              "      <th>recovered</th>\n",
              "    </tr>\n",
              "  </thead>\n",
              "  <tbody>\n",
              "    <tr>\n",
              "      <th>0</th>\n",
              "      <td>2020-04-01</td>\n",
              "      <td>234</td>\n",
              "      <td>1</td>\n",
              "      <td>6</td>\n",
              "    </tr>\n",
              "    <tr>\n",
              "      <th>1</th>\n",
              "      <td>2020-04-02</td>\n",
              "      <td>309</td>\n",
              "      <td>1</td>\n",
              "      <td>6</td>\n",
              "    </tr>\n",
              "    <tr>\n",
              "      <th>2</th>\n",
              "      <td>2020-04-03</td>\n",
              "      <td>411</td>\n",
              "      <td>1</td>\n",
              "      <td>6</td>\n",
              "    </tr>\n",
              "    <tr>\n",
              "      <th>3</th>\n",
              "      <td>2020-04-04</td>\n",
              "      <td>485</td>\n",
              "      <td>3</td>\n",
              "      <td>8</td>\n",
              "    </tr>\n",
              "    <tr>\n",
              "      <th>4</th>\n",
              "      <td>2020-04-05</td>\n",
              "      <td>571</td>\n",
              "      <td>5</td>\n",
              "      <td>8</td>\n",
              "    </tr>\n",
              "  </tbody>\n",
              "</table>\n",
              "</div>"
            ],
            "text/plain": [
              "        DATE  confirmed  deceased  recovered\n",
              "0 2020-04-01        234         1          6\n",
              "1 2020-04-02        309         1          6\n",
              "2 2020-04-03        411         1          6\n",
              "3 2020-04-04        485         3          8\n",
              "4 2020-04-05        571         5          8"
            ]
          },
          "metadata": {
            "tags": []
          },
          "execution_count": 323
        }
      ]
    },
    {
      "cell_type": "markdown",
      "metadata": {
        "id": "UXfBbMM0E4sX",
        "colab_type": "text"
      },
      "source": [
        "## Creating individual data frames for Confirmed, Deceased and Recovered"
      ]
    },
    {
      "cell_type": "code",
      "metadata": {
        "id": "alhoE6YKoozQ",
        "colab_type": "code",
        "colab": {}
      },
      "source": [
        "confirmed=df[['DATE', 'confirmed']] "
      ],
      "execution_count": 324,
      "outputs": []
    },
    {
      "cell_type": "code",
      "metadata": {
        "id": "W6msummwpYSA",
        "colab_type": "code",
        "colab": {
          "base_uri": "https://localhost:8080/",
          "height": 195
        },
        "outputId": "1de7b9b3-e714-4be6-f71c-5621e7f7dd09"
      },
      "source": [
        "confirmed.tail()"
      ],
      "execution_count": 325,
      "outputs": [
        {
          "output_type": "execute_result",
          "data": {
            "text/html": [
              "<div>\n",
              "<style scoped>\n",
              "    .dataframe tbody tr th:only-of-type {\n",
              "        vertical-align: middle;\n",
              "    }\n",
              "\n",
              "    .dataframe tbody tr th {\n",
              "        vertical-align: top;\n",
              "    }\n",
              "\n",
              "    .dataframe thead th {\n",
              "        text-align: right;\n",
              "    }\n",
              "</style>\n",
              "<table border=\"1\" class=\"dataframe\">\n",
              "  <thead>\n",
              "    <tr style=\"text-align: right;\">\n",
              "      <th></th>\n",
              "      <th>DATE</th>\n",
              "      <th>confirmed</th>\n",
              "    </tr>\n",
              "  </thead>\n",
              "  <tbody>\n",
              "    <tr>\n",
              "      <th>70</th>\n",
              "      <td>2020-06-10</td>\n",
              "      <td>25937</td>\n",
              "    </tr>\n",
              "    <tr>\n",
              "      <th>71</th>\n",
              "      <td>2020-06-11</td>\n",
              "      <td>27398</td>\n",
              "    </tr>\n",
              "    <tr>\n",
              "      <th>72</th>\n",
              "      <td>2020-06-12</td>\n",
              "      <td>28924</td>\n",
              "    </tr>\n",
              "    <tr>\n",
              "      <th>73</th>\n",
              "      <td>2020-06-13</td>\n",
              "      <td>30444</td>\n",
              "    </tr>\n",
              "    <tr>\n",
              "      <th>74</th>\n",
              "      <td>2020-06-14</td>\n",
              "      <td>31896</td>\n",
              "    </tr>\n",
              "  </tbody>\n",
              "</table>\n",
              "</div>"
            ],
            "text/plain": [
              "         DATE  confirmed\n",
              "70 2020-06-10      25937\n",
              "71 2020-06-11      27398\n",
              "72 2020-06-12      28924\n",
              "73 2020-06-13      30444\n",
              "74 2020-06-14      31896"
            ]
          },
          "metadata": {
            "tags": []
          },
          "execution_count": 325
        }
      ]
    },
    {
      "cell_type": "code",
      "metadata": {
        "id": "IQm4lt7KFJ_r",
        "colab_type": "code",
        "colab": {}
      },
      "source": [
        "deceased=df[['DATE','deceased']]"
      ],
      "execution_count": 326,
      "outputs": []
    },
    {
      "cell_type": "code",
      "metadata": {
        "id": "ReUT6fR7FfPP",
        "colab_type": "code",
        "colab": {
          "base_uri": "https://localhost:8080/",
          "height": 195
        },
        "outputId": "810d1a29-2222-4df0-ef4f-457b906bc21f"
      },
      "source": [
        "deceased.tail()"
      ],
      "execution_count": 327,
      "outputs": [
        {
          "output_type": "execute_result",
          "data": {
            "text/html": [
              "<div>\n",
              "<style scoped>\n",
              "    .dataframe tbody tr th:only-of-type {\n",
              "        vertical-align: middle;\n",
              "    }\n",
              "\n",
              "    .dataframe tbody tr th {\n",
              "        vertical-align: top;\n",
              "    }\n",
              "\n",
              "    .dataframe thead th {\n",
              "        text-align: right;\n",
              "    }\n",
              "</style>\n",
              "<table border=\"1\" class=\"dataframe\">\n",
              "  <thead>\n",
              "    <tr style=\"text-align: right;\">\n",
              "      <th></th>\n",
              "      <th>DATE</th>\n",
              "      <th>deceased</th>\n",
              "    </tr>\n",
              "  </thead>\n",
              "  <tbody>\n",
              "    <tr>\n",
              "      <th>70</th>\n",
              "      <td>2020-06-10</td>\n",
              "      <td>257</td>\n",
              "    </tr>\n",
              "    <tr>\n",
              "      <th>71</th>\n",
              "      <td>2020-06-11</td>\n",
              "      <td>276</td>\n",
              "    </tr>\n",
              "    <tr>\n",
              "      <th>72</th>\n",
              "      <td>2020-06-12</td>\n",
              "      <td>291</td>\n",
              "    </tr>\n",
              "    <tr>\n",
              "      <th>73</th>\n",
              "      <td>2020-06-13</td>\n",
              "      <td>314</td>\n",
              "    </tr>\n",
              "    <tr>\n",
              "      <th>74</th>\n",
              "      <td>2020-06-14</td>\n",
              "      <td>344</td>\n",
              "    </tr>\n",
              "  </tbody>\n",
              "</table>\n",
              "</div>"
            ],
            "text/plain": [
              "         DATE  deceased\n",
              "70 2020-06-10       257\n",
              "71 2020-06-11       276\n",
              "72 2020-06-12       291\n",
              "73 2020-06-13       314\n",
              "74 2020-06-14       344"
            ]
          },
          "metadata": {
            "tags": []
          },
          "execution_count": 327
        }
      ]
    },
    {
      "cell_type": "code",
      "metadata": {
        "id": "WZB7RhjXFkSO",
        "colab_type": "code",
        "colab": {}
      },
      "source": [
        "recovered=df[['DATE','recovered']]"
      ],
      "execution_count": 328,
      "outputs": []
    },
    {
      "cell_type": "code",
      "metadata": {
        "id": "UNym44pDFq6l",
        "colab_type": "code",
        "colab": {
          "base_uri": "https://localhost:8080/",
          "height": 195
        },
        "outputId": "896ea793-4b17-48e0-ad67-6856e8d8ea41"
      },
      "source": [
        "recovered.tail()"
      ],
      "execution_count": 329,
      "outputs": [
        {
          "output_type": "execute_result",
          "data": {
            "text/html": [
              "<div>\n",
              "<style scoped>\n",
              "    .dataframe tbody tr th:only-of-type {\n",
              "        vertical-align: middle;\n",
              "    }\n",
              "\n",
              "    .dataframe tbody tr th {\n",
              "        vertical-align: top;\n",
              "    }\n",
              "\n",
              "    .dataframe thead th {\n",
              "        text-align: right;\n",
              "    }\n",
              "</style>\n",
              "<table border=\"1\" class=\"dataframe\">\n",
              "  <thead>\n",
              "    <tr style=\"text-align: right;\">\n",
              "      <th></th>\n",
              "      <th>DATE</th>\n",
              "      <th>recovered</th>\n",
              "    </tr>\n",
              "  </thead>\n",
              "  <tbody>\n",
              "    <tr>\n",
              "      <th>70</th>\n",
              "      <td>2020-06-10</td>\n",
              "      <td>12591</td>\n",
              "    </tr>\n",
              "    <tr>\n",
              "      <th>71</th>\n",
              "      <td>2020-06-11</td>\n",
              "      <td>13808</td>\n",
              "    </tr>\n",
              "    <tr>\n",
              "      <th>72</th>\n",
              "      <td>2020-06-12</td>\n",
              "      <td>14723</td>\n",
              "    </tr>\n",
              "    <tr>\n",
              "      <th>73</th>\n",
              "      <td>2020-06-13</td>\n",
              "      <td>15947</td>\n",
              "    </tr>\n",
              "    <tr>\n",
              "      <th>74</th>\n",
              "      <td>2020-06-14</td>\n",
              "      <td>16881</td>\n",
              "    </tr>\n",
              "  </tbody>\n",
              "</table>\n",
              "</div>"
            ],
            "text/plain": [
              "         DATE  recovered\n",
              "70 2020-06-10      12591\n",
              "71 2020-06-11      13808\n",
              "72 2020-06-12      14723\n",
              "73 2020-06-13      15947\n",
              "74 2020-06-14      16881"
            ]
          },
          "metadata": {
            "tags": []
          },
          "execution_count": 329
        }
      ]
    },
    {
      "cell_type": "markdown",
      "metadata": {
        "id": "-ATil-3YFuiT",
        "colab_type": "text"
      },
      "source": [
        "## Prediction"
      ]
    },
    {
      "cell_type": "code",
      "metadata": {
        "id": "STVudQmGsBpl",
        "colab_type": "code",
        "colab": {}
      },
      "source": [
        "from fbprophet import Prophet"
      ],
      "execution_count": 330,
      "outputs": []
    },
    {
      "cell_type": "markdown",
      "metadata": {
        "id": "Zyf7jnN0GEu_",
        "colab_type": "text"
      },
      "source": [
        "### Confirmed"
      ]
    },
    {
      "cell_type": "code",
      "metadata": {
        "id": "Ew7jEvGNsM2i",
        "colab_type": "code",
        "colab": {}
      },
      "source": [
        "confirmed.columns = ['ds','y']\n",
        "#confirmed['ds'] = confirmed['ds'].dt.date\n",
        "confirmed['ds'] = pd.to_datetime(confirmed['ds'])"
      ],
      "execution_count": null,
      "outputs": []
    },
    {
      "cell_type": "code",
      "metadata": {
        "id": "RblHXr0HsSJY",
        "colab_type": "code",
        "colab": {
          "base_uri": "https://localhost:8080/",
          "height": 195
        },
        "outputId": "1cf25c42-9992-4c45-8209-b25ef0d6d25e"
      },
      "source": [
        "confirmed.tail()"
      ],
      "execution_count": 338,
      "outputs": [
        {
          "output_type": "execute_result",
          "data": {
            "text/html": [
              "<div>\n",
              "<style scoped>\n",
              "    .dataframe tbody tr th:only-of-type {\n",
              "        vertical-align: middle;\n",
              "    }\n",
              "\n",
              "    .dataframe tbody tr th {\n",
              "        vertical-align: top;\n",
              "    }\n",
              "\n",
              "    .dataframe thead th {\n",
              "        text-align: right;\n",
              "    }\n",
              "</style>\n",
              "<table border=\"1\" class=\"dataframe\">\n",
              "  <thead>\n",
              "    <tr style=\"text-align: right;\">\n",
              "      <th></th>\n",
              "      <th>ds</th>\n",
              "      <th>y</th>\n",
              "    </tr>\n",
              "  </thead>\n",
              "  <tbody>\n",
              "    <tr>\n",
              "      <th>70</th>\n",
              "      <td>2020-06-10</td>\n",
              "      <td>25937</td>\n",
              "    </tr>\n",
              "    <tr>\n",
              "      <th>71</th>\n",
              "      <td>2020-06-11</td>\n",
              "      <td>27398</td>\n",
              "    </tr>\n",
              "    <tr>\n",
              "      <th>72</th>\n",
              "      <td>2020-06-12</td>\n",
              "      <td>28924</td>\n",
              "    </tr>\n",
              "    <tr>\n",
              "      <th>73</th>\n",
              "      <td>2020-06-13</td>\n",
              "      <td>30444</td>\n",
              "    </tr>\n",
              "    <tr>\n",
              "      <th>74</th>\n",
              "      <td>2020-06-14</td>\n",
              "      <td>31896</td>\n",
              "    </tr>\n",
              "  </tbody>\n",
              "</table>\n",
              "</div>"
            ],
            "text/plain": [
              "           ds      y\n",
              "70 2020-06-10  25937\n",
              "71 2020-06-11  27398\n",
              "72 2020-06-12  28924\n",
              "73 2020-06-13  30444\n",
              "74 2020-06-14  31896"
            ]
          },
          "metadata": {
            "tags": []
          },
          "execution_count": 338
        }
      ]
    },
    {
      "cell_type": "code",
      "metadata": {
        "id": "eWGyHP0PrwIS",
        "colab_type": "code",
        "colab": {
          "base_uri": "https://localhost:8080/",
          "height": 229
        },
        "outputId": "14e00489-1046-410b-93ea-76902651013f"
      },
      "source": [
        "m = Prophet(interval_width=0.95)\n",
        "m.fit(confirmed)\n",
        "future = m.make_future_dataframe(periods=5)\n",
        "future.tail()"
      ],
      "execution_count": 339,
      "outputs": [
        {
          "output_type": "stream",
          "text": [
            "INFO:fbprophet:Disabling yearly seasonality. Run prophet with yearly_seasonality=True to override this.\n",
            "INFO:fbprophet:Disabling daily seasonality. Run prophet with daily_seasonality=True to override this.\n"
          ],
          "name": "stderr"
        },
        {
          "output_type": "execute_result",
          "data": {
            "text/html": [
              "<div>\n",
              "<style scoped>\n",
              "    .dataframe tbody tr th:only-of-type {\n",
              "        vertical-align: middle;\n",
              "    }\n",
              "\n",
              "    .dataframe tbody tr th {\n",
              "        vertical-align: top;\n",
              "    }\n",
              "\n",
              "    .dataframe thead th {\n",
              "        text-align: right;\n",
              "    }\n",
              "</style>\n",
              "<table border=\"1\" class=\"dataframe\">\n",
              "  <thead>\n",
              "    <tr style=\"text-align: right;\">\n",
              "      <th></th>\n",
              "      <th>ds</th>\n",
              "    </tr>\n",
              "  </thead>\n",
              "  <tbody>\n",
              "    <tr>\n",
              "      <th>75</th>\n",
              "      <td>2020-06-15</td>\n",
              "    </tr>\n",
              "    <tr>\n",
              "      <th>76</th>\n",
              "      <td>2020-06-16</td>\n",
              "    </tr>\n",
              "    <tr>\n",
              "      <th>77</th>\n",
              "      <td>2020-06-17</td>\n",
              "    </tr>\n",
              "    <tr>\n",
              "      <th>78</th>\n",
              "      <td>2020-06-18</td>\n",
              "    </tr>\n",
              "    <tr>\n",
              "      <th>79</th>\n",
              "      <td>2020-06-19</td>\n",
              "    </tr>\n",
              "  </tbody>\n",
              "</table>\n",
              "</div>"
            ],
            "text/plain": [
              "           ds\n",
              "75 2020-06-15\n",
              "76 2020-06-16\n",
              "77 2020-06-17\n",
              "78 2020-06-18\n",
              "79 2020-06-19"
            ]
          },
          "metadata": {
            "tags": []
          },
          "execution_count": 339
        }
      ]
    },
    {
      "cell_type": "code",
      "metadata": {
        "id": "qXI5DxAQAe-r",
        "colab_type": "code",
        "colab": {
          "base_uri": "https://localhost:8080/",
          "height": 195
        },
        "outputId": "66954810-42ed-4b01-8587-ffedec791a16"
      },
      "source": [
        "#predicting the future with date, and upper and lower limit of y value\n",
        "forecast = m.predict(future)\n",
        "forecast[['ds', 'trend','yhat', 'yhat_lower', 'yhat_upper']].tail()"
      ],
      "execution_count": 340,
      "outputs": [
        {
          "output_type": "execute_result",
          "data": {
            "text/html": [
              "<div>\n",
              "<style scoped>\n",
              "    .dataframe tbody tr th:only-of-type {\n",
              "        vertical-align: middle;\n",
              "    }\n",
              "\n",
              "    .dataframe tbody tr th {\n",
              "        vertical-align: top;\n",
              "    }\n",
              "\n",
              "    .dataframe thead th {\n",
              "        text-align: right;\n",
              "    }\n",
              "</style>\n",
              "<table border=\"1\" class=\"dataframe\">\n",
              "  <thead>\n",
              "    <tr style=\"text-align: right;\">\n",
              "      <th></th>\n",
              "      <th>ds</th>\n",
              "      <th>trend</th>\n",
              "      <th>yhat</th>\n",
              "      <th>yhat_lower</th>\n",
              "      <th>yhat_upper</th>\n",
              "    </tr>\n",
              "  </thead>\n",
              "  <tbody>\n",
              "    <tr>\n",
              "      <th>75</th>\n",
              "      <td>2020-06-15</td>\n",
              "      <td>31933.816660</td>\n",
              "      <td>31839.512837</td>\n",
              "      <td>31218.567759</td>\n",
              "      <td>32478.188615</td>\n",
              "    </tr>\n",
              "    <tr>\n",
              "      <th>76</th>\n",
              "      <td>2020-06-16</td>\n",
              "      <td>33089.075814</td>\n",
              "      <td>33005.734967</td>\n",
              "      <td>32338.077511</td>\n",
              "      <td>33627.696271</td>\n",
              "    </tr>\n",
              "    <tr>\n",
              "      <th>77</th>\n",
              "      <td>2020-06-17</td>\n",
              "      <td>34244.334968</td>\n",
              "      <td>34225.566540</td>\n",
              "      <td>33574.288690</td>\n",
              "      <td>34869.695790</td>\n",
              "    </tr>\n",
              "    <tr>\n",
              "      <th>78</th>\n",
              "      <td>2020-06-18</td>\n",
              "      <td>35399.594122</td>\n",
              "      <td>35391.353233</td>\n",
              "      <td>34684.161231</td>\n",
              "      <td>36094.763002</td>\n",
              "    </tr>\n",
              "    <tr>\n",
              "      <th>79</th>\n",
              "      <td>2020-06-19</td>\n",
              "      <td>36554.853276</td>\n",
              "      <td>36613.592883</td>\n",
              "      <td>35812.202966</td>\n",
              "      <td>37480.847271</td>\n",
              "    </tr>\n",
              "  </tbody>\n",
              "</table>\n",
              "</div>"
            ],
            "text/plain": [
              "           ds         trend          yhat    yhat_lower    yhat_upper\n",
              "75 2020-06-15  31933.816660  31839.512837  31218.567759  32478.188615\n",
              "76 2020-06-16  33089.075814  33005.734967  32338.077511  33627.696271\n",
              "77 2020-06-17  34244.334968  34225.566540  33574.288690  34869.695790\n",
              "78 2020-06-18  35399.594122  35391.353233  34684.161231  36094.763002\n",
              "79 2020-06-19  36554.853276  36613.592883  35812.202966  37480.847271"
            ]
          },
          "metadata": {
            "tags": []
          },
          "execution_count": 340
        }
      ]
    },
    {
      "cell_type": "code",
      "metadata": {
        "id": "sLd0Da9ybU2-",
        "colab_type": "code",
        "colab": {
          "base_uri": "https://localhost:8080/",
          "height": 299
        },
        "outputId": "3bf74c57-c128-43c8-8aa6-64844d20297c"
      },
      "source": [
        "forecast.rename(columns={'trend': 'confirmed'}, inplace=True)\n",
        "forecast.head()"
      ],
      "execution_count": 341,
      "outputs": [
        {
          "output_type": "execute_result",
          "data": {
            "text/html": [
              "<div>\n",
              "<style scoped>\n",
              "    .dataframe tbody tr th:only-of-type {\n",
              "        vertical-align: middle;\n",
              "    }\n",
              "\n",
              "    .dataframe tbody tr th {\n",
              "        vertical-align: top;\n",
              "    }\n",
              "\n",
              "    .dataframe thead th {\n",
              "        text-align: right;\n",
              "    }\n",
              "</style>\n",
              "<table border=\"1\" class=\"dataframe\">\n",
              "  <thead>\n",
              "    <tr style=\"text-align: right;\">\n",
              "      <th></th>\n",
              "      <th>ds</th>\n",
              "      <th>confirmed</th>\n",
              "      <th>yhat_lower</th>\n",
              "      <th>yhat_upper</th>\n",
              "      <th>trend_lower</th>\n",
              "      <th>trend_upper</th>\n",
              "      <th>additive_terms</th>\n",
              "      <th>additive_terms_lower</th>\n",
              "      <th>additive_terms_upper</th>\n",
              "      <th>weekly</th>\n",
              "      <th>weekly_lower</th>\n",
              "      <th>weekly_upper</th>\n",
              "      <th>multiplicative_terms</th>\n",
              "      <th>multiplicative_terms_lower</th>\n",
              "      <th>multiplicative_terms_upper</th>\n",
              "      <th>yhat</th>\n",
              "    </tr>\n",
              "  </thead>\n",
              "  <tbody>\n",
              "    <tr>\n",
              "      <th>0</th>\n",
              "      <td>2020-04-01</td>\n",
              "      <td>352.674234</td>\n",
              "      <td>-294.543509</td>\n",
              "      <td>920.142040</td>\n",
              "      <td>352.674234</td>\n",
              "      <td>352.674234</td>\n",
              "      <td>-18.768428</td>\n",
              "      <td>-18.768428</td>\n",
              "      <td>-18.768428</td>\n",
              "      <td>-18.768428</td>\n",
              "      <td>-18.768428</td>\n",
              "      <td>-18.768428</td>\n",
              "      <td>0.0</td>\n",
              "      <td>0.0</td>\n",
              "      <td>0.0</td>\n",
              "      <td>333.905807</td>\n",
              "    </tr>\n",
              "    <tr>\n",
              "      <th>1</th>\n",
              "      <td>2020-04-02</td>\n",
              "      <td>411.300873</td>\n",
              "      <td>-202.125662</td>\n",
              "      <td>1019.812727</td>\n",
              "      <td>411.300873</td>\n",
              "      <td>411.300873</td>\n",
              "      <td>-8.240889</td>\n",
              "      <td>-8.240889</td>\n",
              "      <td>-8.240889</td>\n",
              "      <td>-8.240889</td>\n",
              "      <td>-8.240889</td>\n",
              "      <td>-8.240889</td>\n",
              "      <td>0.0</td>\n",
              "      <td>0.0</td>\n",
              "      <td>0.0</td>\n",
              "      <td>403.059985</td>\n",
              "    </tr>\n",
              "    <tr>\n",
              "      <th>2</th>\n",
              "      <td>2020-04-03</td>\n",
              "      <td>469.927512</td>\n",
              "      <td>-98.454427</td>\n",
              "      <td>1157.360582</td>\n",
              "      <td>469.927512</td>\n",
              "      <td>469.927512</td>\n",
              "      <td>58.739607</td>\n",
              "      <td>58.739607</td>\n",
              "      <td>58.739607</td>\n",
              "      <td>58.739607</td>\n",
              "      <td>58.739607</td>\n",
              "      <td>58.739607</td>\n",
              "      <td>0.0</td>\n",
              "      <td>0.0</td>\n",
              "      <td>0.0</td>\n",
              "      <td>528.667119</td>\n",
              "    </tr>\n",
              "    <tr>\n",
              "      <th>3</th>\n",
              "      <td>2020-04-04</td>\n",
              "      <td>528.554150</td>\n",
              "      <td>34.575683</td>\n",
              "      <td>1245.594914</td>\n",
              "      <td>528.554150</td>\n",
              "      <td>528.554150</td>\n",
              "      <td>123.180928</td>\n",
              "      <td>123.180928</td>\n",
              "      <td>123.180928</td>\n",
              "      <td>123.180928</td>\n",
              "      <td>123.180928</td>\n",
              "      <td>123.180928</td>\n",
              "      <td>0.0</td>\n",
              "      <td>0.0</td>\n",
              "      <td>0.0</td>\n",
              "      <td>651.735078</td>\n",
              "    </tr>\n",
              "    <tr>\n",
              "      <th>4</th>\n",
              "      <td>2020-04-05</td>\n",
              "      <td>587.180787</td>\n",
              "      <td>30.494226</td>\n",
              "      <td>1211.283377</td>\n",
              "      <td>587.180787</td>\n",
              "      <td>587.180787</td>\n",
              "      <td>22.733450</td>\n",
              "      <td>22.733450</td>\n",
              "      <td>22.733450</td>\n",
              "      <td>22.733450</td>\n",
              "      <td>22.733450</td>\n",
              "      <td>22.733450</td>\n",
              "      <td>0.0</td>\n",
              "      <td>0.0</td>\n",
              "      <td>0.0</td>\n",
              "      <td>609.914237</td>\n",
              "    </tr>\n",
              "  </tbody>\n",
              "</table>\n",
              "</div>"
            ],
            "text/plain": [
              "          ds   confirmed  ...  multiplicative_terms_upper        yhat\n",
              "0 2020-04-01  352.674234  ...                         0.0  333.905807\n",
              "1 2020-04-02  411.300873  ...                         0.0  403.059985\n",
              "2 2020-04-03  469.927512  ...                         0.0  528.667119\n",
              "3 2020-04-04  528.554150  ...                         0.0  651.735078\n",
              "4 2020-04-05  587.180787  ...                         0.0  609.914237\n",
              "\n",
              "[5 rows x 16 columns]"
            ]
          },
          "metadata": {
            "tags": []
          },
          "execution_count": 341
        }
      ]
    },
    {
      "cell_type": "code",
      "metadata": {
        "id": "aaY26Mg2CO00",
        "colab_type": "code",
        "colab": {}
      },
      "source": [
        "final1=forecast[['ds','confirmed']].tail()"
      ],
      "execution_count": 342,
      "outputs": []
    },
    {
      "cell_type": "code",
      "metadata": {
        "id": "3-BXHsAtXI9K",
        "colab_type": "code",
        "colab": {
          "base_uri": "https://localhost:8080/",
          "height": 195
        },
        "outputId": "1afcefa1-a0fe-4fbb-af38-6ce88f4a8f14"
      },
      "source": [
        "final1.tail()"
      ],
      "execution_count": 343,
      "outputs": [
        {
          "output_type": "execute_result",
          "data": {
            "text/html": [
              "<div>\n",
              "<style scoped>\n",
              "    .dataframe tbody tr th:only-of-type {\n",
              "        vertical-align: middle;\n",
              "    }\n",
              "\n",
              "    .dataframe tbody tr th {\n",
              "        vertical-align: top;\n",
              "    }\n",
              "\n",
              "    .dataframe thead th {\n",
              "        text-align: right;\n",
              "    }\n",
              "</style>\n",
              "<table border=\"1\" class=\"dataframe\">\n",
              "  <thead>\n",
              "    <tr style=\"text-align: right;\">\n",
              "      <th></th>\n",
              "      <th>ds</th>\n",
              "      <th>confirmed</th>\n",
              "    </tr>\n",
              "  </thead>\n",
              "  <tbody>\n",
              "    <tr>\n",
              "      <th>75</th>\n",
              "      <td>2020-06-15</td>\n",
              "      <td>31933.816660</td>\n",
              "    </tr>\n",
              "    <tr>\n",
              "      <th>76</th>\n",
              "      <td>2020-06-16</td>\n",
              "      <td>33089.075814</td>\n",
              "    </tr>\n",
              "    <tr>\n",
              "      <th>77</th>\n",
              "      <td>2020-06-17</td>\n",
              "      <td>34244.334968</td>\n",
              "    </tr>\n",
              "    <tr>\n",
              "      <th>78</th>\n",
              "      <td>2020-06-18</td>\n",
              "      <td>35399.594122</td>\n",
              "    </tr>\n",
              "    <tr>\n",
              "      <th>79</th>\n",
              "      <td>2020-06-19</td>\n",
              "      <td>36554.853276</td>\n",
              "    </tr>\n",
              "  </tbody>\n",
              "</table>\n",
              "</div>"
            ],
            "text/plain": [
              "           ds     confirmed\n",
              "75 2020-06-15  31933.816660\n",
              "76 2020-06-16  33089.075814\n",
              "77 2020-06-17  34244.334968\n",
              "78 2020-06-18  35399.594122\n",
              "79 2020-06-19  36554.853276"
            ]
          },
          "metadata": {
            "tags": []
          },
          "execution_count": 343
        }
      ]
    },
    {
      "cell_type": "markdown",
      "metadata": {
        "id": "vHCS0z_1Gop3",
        "colab_type": "text"
      },
      "source": [
        "### Deceased"
      ]
    },
    {
      "cell_type": "code",
      "metadata": {
        "id": "uKOA8ff1GuS9",
        "colab_type": "code",
        "colab": {}
      },
      "source": [
        "deceased.columns = ['ds','y']\n",
        "deceased['ds'] = pd.to_datetime(deceased['ds'])"
      ],
      "execution_count": null,
      "outputs": []
    },
    {
      "cell_type": "code",
      "metadata": {
        "id": "v3GzenmdGuLq",
        "colab_type": "code",
        "colab": {
          "base_uri": "https://localhost:8080/",
          "height": 195
        },
        "outputId": "1fe282d1-0328-4179-fb14-0cfd88365d5e"
      },
      "source": [
        "deceased.tail()"
      ],
      "execution_count": 345,
      "outputs": [
        {
          "output_type": "execute_result",
          "data": {
            "text/html": [
              "<div>\n",
              "<style scoped>\n",
              "    .dataframe tbody tr th:only-of-type {\n",
              "        vertical-align: middle;\n",
              "    }\n",
              "\n",
              "    .dataframe tbody tr th {\n",
              "        vertical-align: top;\n",
              "    }\n",
              "\n",
              "    .dataframe thead th {\n",
              "        text-align: right;\n",
              "    }\n",
              "</style>\n",
              "<table border=\"1\" class=\"dataframe\">\n",
              "  <thead>\n",
              "    <tr style=\"text-align: right;\">\n",
              "      <th></th>\n",
              "      <th>ds</th>\n",
              "      <th>y</th>\n",
              "    </tr>\n",
              "  </thead>\n",
              "  <tbody>\n",
              "    <tr>\n",
              "      <th>70</th>\n",
              "      <td>2020-06-10</td>\n",
              "      <td>257</td>\n",
              "    </tr>\n",
              "    <tr>\n",
              "      <th>71</th>\n",
              "      <td>2020-06-11</td>\n",
              "      <td>276</td>\n",
              "    </tr>\n",
              "    <tr>\n",
              "      <th>72</th>\n",
              "      <td>2020-06-12</td>\n",
              "      <td>291</td>\n",
              "    </tr>\n",
              "    <tr>\n",
              "      <th>73</th>\n",
              "      <td>2020-06-13</td>\n",
              "      <td>314</td>\n",
              "    </tr>\n",
              "    <tr>\n",
              "      <th>74</th>\n",
              "      <td>2020-06-14</td>\n",
              "      <td>344</td>\n",
              "    </tr>\n",
              "  </tbody>\n",
              "</table>\n",
              "</div>"
            ],
            "text/plain": [
              "           ds    y\n",
              "70 2020-06-10  257\n",
              "71 2020-06-11  276\n",
              "72 2020-06-12  291\n",
              "73 2020-06-13  314\n",
              "74 2020-06-14  344"
            ]
          },
          "metadata": {
            "tags": []
          },
          "execution_count": 345
        }
      ]
    },
    {
      "cell_type": "code",
      "metadata": {
        "id": "EnJTzP6kGuIH",
        "colab_type": "code",
        "colab": {}
      },
      "source": [
        "m = Prophet(interval_width=0.95)\n",
        "m.fit(deceased)\n",
        "future = m.make_future_dataframe(periods=5)\n",
        "future.tail()"
      ],
      "execution_count": null,
      "outputs": []
    },
    {
      "cell_type": "code",
      "metadata": {
        "id": "QjKduCWnGuFk",
        "colab_type": "code",
        "colab": {
          "base_uri": "https://localhost:8080/",
          "height": 195
        },
        "outputId": "0e309551-4704-4f38-9557-c9de7052bce6"
      },
      "source": [
        "forecast = m.predict(future)\n",
        "forecast[['ds', 'trend','yhat', 'yhat_lower', 'yhat_upper']].tail()"
      ],
      "execution_count": 347,
      "outputs": [
        {
          "output_type": "execute_result",
          "data": {
            "text/html": [
              "<div>\n",
              "<style scoped>\n",
              "    .dataframe tbody tr th:only-of-type {\n",
              "        vertical-align: middle;\n",
              "    }\n",
              "\n",
              "    .dataframe tbody tr th {\n",
              "        vertical-align: top;\n",
              "    }\n",
              "\n",
              "    .dataframe thead th {\n",
              "        text-align: right;\n",
              "    }\n",
              "</style>\n",
              "<table border=\"1\" class=\"dataframe\">\n",
              "  <thead>\n",
              "    <tr style=\"text-align: right;\">\n",
              "      <th></th>\n",
              "      <th>ds</th>\n",
              "      <th>trend</th>\n",
              "      <th>yhat</th>\n",
              "      <th>yhat_lower</th>\n",
              "      <th>yhat_upper</th>\n",
              "    </tr>\n",
              "  </thead>\n",
              "  <tbody>\n",
              "    <tr>\n",
              "      <th>75</th>\n",
              "      <td>2020-06-15</td>\n",
              "      <td>328.440372</td>\n",
              "      <td>327.167013</td>\n",
              "      <td>316.278806</td>\n",
              "      <td>338.244912</td>\n",
              "    </tr>\n",
              "    <tr>\n",
              "      <th>76</th>\n",
              "      <td>2020-06-16</td>\n",
              "      <td>341.950801</td>\n",
              "      <td>341.478377</td>\n",
              "      <td>330.924530</td>\n",
              "      <td>353.146267</td>\n",
              "    </tr>\n",
              "    <tr>\n",
              "      <th>77</th>\n",
              "      <td>2020-06-17</td>\n",
              "      <td>355.461229</td>\n",
              "      <td>353.877133</td>\n",
              "      <td>343.007543</td>\n",
              "      <td>365.277939</td>\n",
              "    </tr>\n",
              "    <tr>\n",
              "      <th>78</th>\n",
              "      <td>2020-06-18</td>\n",
              "      <td>368.971658</td>\n",
              "      <td>368.704474</td>\n",
              "      <td>357.008570</td>\n",
              "      <td>380.969994</td>\n",
              "    </tr>\n",
              "    <tr>\n",
              "      <th>79</th>\n",
              "      <td>2020-06-19</td>\n",
              "      <td>382.482086</td>\n",
              "      <td>382.430858</td>\n",
              "      <td>370.333278</td>\n",
              "      <td>395.020286</td>\n",
              "    </tr>\n",
              "  </tbody>\n",
              "</table>\n",
              "</div>"
            ],
            "text/plain": [
              "           ds       trend        yhat  yhat_lower  yhat_upper\n",
              "75 2020-06-15  328.440372  327.167013  316.278806  338.244912\n",
              "76 2020-06-16  341.950801  341.478377  330.924530  353.146267\n",
              "77 2020-06-17  355.461229  353.877133  343.007543  365.277939\n",
              "78 2020-06-18  368.971658  368.704474  357.008570  380.969994\n",
              "79 2020-06-19  382.482086  382.430858  370.333278  395.020286"
            ]
          },
          "metadata": {
            "tags": []
          },
          "execution_count": 347
        }
      ]
    },
    {
      "cell_type": "code",
      "metadata": {
        "id": "B5mgFsO0YRH-",
        "colab_type": "code",
        "colab": {}
      },
      "source": [
        "forecast.rename(columns={'trend': 'deceased'}, inplace=True)"
      ],
      "execution_count": 348,
      "outputs": []
    },
    {
      "cell_type": "code",
      "metadata": {
        "id": "emQiqGnTh9gS",
        "colab_type": "code",
        "colab": {
          "base_uri": "https://localhost:8080/",
          "height": 299
        },
        "outputId": "5104faa5-5ecf-415f-cb44-bee98c6614b8"
      },
      "source": [
        "forecast.tail()"
      ],
      "execution_count": 349,
      "outputs": [
        {
          "output_type": "execute_result",
          "data": {
            "text/html": [
              "<div>\n",
              "<style scoped>\n",
              "    .dataframe tbody tr th:only-of-type {\n",
              "        vertical-align: middle;\n",
              "    }\n",
              "\n",
              "    .dataframe tbody tr th {\n",
              "        vertical-align: top;\n",
              "    }\n",
              "\n",
              "    .dataframe thead th {\n",
              "        text-align: right;\n",
              "    }\n",
              "</style>\n",
              "<table border=\"1\" class=\"dataframe\">\n",
              "  <thead>\n",
              "    <tr style=\"text-align: right;\">\n",
              "      <th></th>\n",
              "      <th>ds</th>\n",
              "      <th>deceased</th>\n",
              "      <th>yhat_lower</th>\n",
              "      <th>yhat_upper</th>\n",
              "      <th>trend_lower</th>\n",
              "      <th>trend_upper</th>\n",
              "      <th>additive_terms</th>\n",
              "      <th>additive_terms_lower</th>\n",
              "      <th>additive_terms_upper</th>\n",
              "      <th>weekly</th>\n",
              "      <th>weekly_lower</th>\n",
              "      <th>weekly_upper</th>\n",
              "      <th>multiplicative_terms</th>\n",
              "      <th>multiplicative_terms_lower</th>\n",
              "      <th>multiplicative_terms_upper</th>\n",
              "      <th>yhat</th>\n",
              "    </tr>\n",
              "  </thead>\n",
              "  <tbody>\n",
              "    <tr>\n",
              "      <th>75</th>\n",
              "      <td>2020-06-15</td>\n",
              "      <td>328.440372</td>\n",
              "      <td>316.278806</td>\n",
              "      <td>338.244912</td>\n",
              "      <td>327.970265</td>\n",
              "      <td>328.894337</td>\n",
              "      <td>-1.273359</td>\n",
              "      <td>-1.273359</td>\n",
              "      <td>-1.273359</td>\n",
              "      <td>-1.273359</td>\n",
              "      <td>-1.273359</td>\n",
              "      <td>-1.273359</td>\n",
              "      <td>0.0</td>\n",
              "      <td>0.0</td>\n",
              "      <td>0.0</td>\n",
              "      <td>327.167013</td>\n",
              "    </tr>\n",
              "    <tr>\n",
              "      <th>76</th>\n",
              "      <td>2020-06-16</td>\n",
              "      <td>341.950801</td>\n",
              "      <td>330.924530</td>\n",
              "      <td>353.146267</td>\n",
              "      <td>340.481203</td>\n",
              "      <td>343.720203</td>\n",
              "      <td>-0.472424</td>\n",
              "      <td>-0.472424</td>\n",
              "      <td>-0.472424</td>\n",
              "      <td>-0.472424</td>\n",
              "      <td>-0.472424</td>\n",
              "      <td>-0.472424</td>\n",
              "      <td>0.0</td>\n",
              "      <td>0.0</td>\n",
              "      <td>0.0</td>\n",
              "      <td>341.478377</td>\n",
              "    </tr>\n",
              "    <tr>\n",
              "      <th>77</th>\n",
              "      <td>2020-06-17</td>\n",
              "      <td>355.461229</td>\n",
              "      <td>343.007543</td>\n",
              "      <td>365.277939</td>\n",
              "      <td>352.943294</td>\n",
              "      <td>358.571665</td>\n",
              "      <td>-1.584096</td>\n",
              "      <td>-1.584096</td>\n",
              "      <td>-1.584096</td>\n",
              "      <td>-1.584096</td>\n",
              "      <td>-1.584096</td>\n",
              "      <td>-1.584096</td>\n",
              "      <td>0.0</td>\n",
              "      <td>0.0</td>\n",
              "      <td>0.0</td>\n",
              "      <td>353.877133</td>\n",
              "    </tr>\n",
              "    <tr>\n",
              "      <th>78</th>\n",
              "      <td>2020-06-18</td>\n",
              "      <td>368.971658</td>\n",
              "      <td>357.008570</td>\n",
              "      <td>380.969994</td>\n",
              "      <td>365.090850</td>\n",
              "      <td>373.716370</td>\n",
              "      <td>-0.267184</td>\n",
              "      <td>-0.267184</td>\n",
              "      <td>-0.267184</td>\n",
              "      <td>-0.267184</td>\n",
              "      <td>-0.267184</td>\n",
              "      <td>-0.267184</td>\n",
              "      <td>0.0</td>\n",
              "      <td>0.0</td>\n",
              "      <td>0.0</td>\n",
              "      <td>368.704474</td>\n",
              "    </tr>\n",
              "    <tr>\n",
              "      <th>79</th>\n",
              "      <td>2020-06-19</td>\n",
              "      <td>382.482086</td>\n",
              "      <td>370.333278</td>\n",
              "      <td>395.020286</td>\n",
              "      <td>377.266297</td>\n",
              "      <td>388.920058</td>\n",
              "      <td>-0.051228</td>\n",
              "      <td>-0.051228</td>\n",
              "      <td>-0.051228</td>\n",
              "      <td>-0.051228</td>\n",
              "      <td>-0.051228</td>\n",
              "      <td>-0.051228</td>\n",
              "      <td>0.0</td>\n",
              "      <td>0.0</td>\n",
              "      <td>0.0</td>\n",
              "      <td>382.430858</td>\n",
              "    </tr>\n",
              "  </tbody>\n",
              "</table>\n",
              "</div>"
            ],
            "text/plain": [
              "           ds    deceased  ...  multiplicative_terms_upper        yhat\n",
              "75 2020-06-15  328.440372  ...                         0.0  327.167013\n",
              "76 2020-06-16  341.950801  ...                         0.0  341.478377\n",
              "77 2020-06-17  355.461229  ...                         0.0  353.877133\n",
              "78 2020-06-18  368.971658  ...                         0.0  368.704474\n",
              "79 2020-06-19  382.482086  ...                         0.0  382.430858\n",
              "\n",
              "[5 rows x 16 columns]"
            ]
          },
          "metadata": {
            "tags": []
          },
          "execution_count": 349
        }
      ]
    },
    {
      "cell_type": "code",
      "metadata": {
        "id": "MIg3t_xYHO4-",
        "colab_type": "code",
        "colab": {}
      },
      "source": [
        "final2=forecast[['ds', 'deceased']].tail()"
      ],
      "execution_count": 350,
      "outputs": []
    },
    {
      "cell_type": "code",
      "metadata": {
        "id": "PEV6AGV7aPEd",
        "colab_type": "code",
        "colab": {
          "base_uri": "https://localhost:8080/",
          "height": 195
        },
        "outputId": "93f5cc6f-1f52-4ec5-ed76-328b35190282"
      },
      "source": [
        "final2.tail()"
      ],
      "execution_count": 351,
      "outputs": [
        {
          "output_type": "execute_result",
          "data": {
            "text/html": [
              "<div>\n",
              "<style scoped>\n",
              "    .dataframe tbody tr th:only-of-type {\n",
              "        vertical-align: middle;\n",
              "    }\n",
              "\n",
              "    .dataframe tbody tr th {\n",
              "        vertical-align: top;\n",
              "    }\n",
              "\n",
              "    .dataframe thead th {\n",
              "        text-align: right;\n",
              "    }\n",
              "</style>\n",
              "<table border=\"1\" class=\"dataframe\">\n",
              "  <thead>\n",
              "    <tr style=\"text-align: right;\">\n",
              "      <th></th>\n",
              "      <th>ds</th>\n",
              "      <th>deceased</th>\n",
              "    </tr>\n",
              "  </thead>\n",
              "  <tbody>\n",
              "    <tr>\n",
              "      <th>75</th>\n",
              "      <td>2020-06-15</td>\n",
              "      <td>328.440372</td>\n",
              "    </tr>\n",
              "    <tr>\n",
              "      <th>76</th>\n",
              "      <td>2020-06-16</td>\n",
              "      <td>341.950801</td>\n",
              "    </tr>\n",
              "    <tr>\n",
              "      <th>77</th>\n",
              "      <td>2020-06-17</td>\n",
              "      <td>355.461229</td>\n",
              "    </tr>\n",
              "    <tr>\n",
              "      <th>78</th>\n",
              "      <td>2020-06-18</td>\n",
              "      <td>368.971658</td>\n",
              "    </tr>\n",
              "    <tr>\n",
              "      <th>79</th>\n",
              "      <td>2020-06-19</td>\n",
              "      <td>382.482086</td>\n",
              "    </tr>\n",
              "  </tbody>\n",
              "</table>\n",
              "</div>"
            ],
            "text/plain": [
              "           ds    deceased\n",
              "75 2020-06-15  328.440372\n",
              "76 2020-06-16  341.950801\n",
              "77 2020-06-17  355.461229\n",
              "78 2020-06-18  368.971658\n",
              "79 2020-06-19  382.482086"
            ]
          },
          "metadata": {
            "tags": []
          },
          "execution_count": 351
        }
      ]
    },
    {
      "cell_type": "markdown",
      "metadata": {
        "id": "wNx006h5HkFq",
        "colab_type": "text"
      },
      "source": [
        "### Recovered"
      ]
    },
    {
      "cell_type": "code",
      "metadata": {
        "id": "BM_ObkdRGuDd",
        "colab_type": "code",
        "colab": {}
      },
      "source": [
        "recovered.columns = ['ds','y']\n",
        "recovered['ds'] = pd.to_datetime(recovered['ds'])"
      ],
      "execution_count": null,
      "outputs": []
    },
    {
      "cell_type": "code",
      "metadata": {
        "id": "QAP5T0tzHm5t",
        "colab_type": "code",
        "colab": {
          "base_uri": "https://localhost:8080/",
          "height": 195
        },
        "outputId": "01569c83-e6e9-4ef1-8009-8d671606d0d2"
      },
      "source": [
        "recovered.tail()"
      ],
      "execution_count": 353,
      "outputs": [
        {
          "output_type": "execute_result",
          "data": {
            "text/html": [
              "<div>\n",
              "<style scoped>\n",
              "    .dataframe tbody tr th:only-of-type {\n",
              "        vertical-align: middle;\n",
              "    }\n",
              "\n",
              "    .dataframe tbody tr th {\n",
              "        vertical-align: top;\n",
              "    }\n",
              "\n",
              "    .dataframe thead th {\n",
              "        text-align: right;\n",
              "    }\n",
              "</style>\n",
              "<table border=\"1\" class=\"dataframe\">\n",
              "  <thead>\n",
              "    <tr style=\"text-align: right;\">\n",
              "      <th></th>\n",
              "      <th>ds</th>\n",
              "      <th>y</th>\n",
              "    </tr>\n",
              "  </thead>\n",
              "  <tbody>\n",
              "    <tr>\n",
              "      <th>70</th>\n",
              "      <td>2020-06-10</td>\n",
              "      <td>12591</td>\n",
              "    </tr>\n",
              "    <tr>\n",
              "      <th>71</th>\n",
              "      <td>2020-06-11</td>\n",
              "      <td>13808</td>\n",
              "    </tr>\n",
              "    <tr>\n",
              "      <th>72</th>\n",
              "      <td>2020-06-12</td>\n",
              "      <td>14723</td>\n",
              "    </tr>\n",
              "    <tr>\n",
              "      <th>73</th>\n",
              "      <td>2020-06-13</td>\n",
              "      <td>15947</td>\n",
              "    </tr>\n",
              "    <tr>\n",
              "      <th>74</th>\n",
              "      <td>2020-06-14</td>\n",
              "      <td>16881</td>\n",
              "    </tr>\n",
              "  </tbody>\n",
              "</table>\n",
              "</div>"
            ],
            "text/plain": [
              "           ds      y\n",
              "70 2020-06-10  12591\n",
              "71 2020-06-11  13808\n",
              "72 2020-06-12  14723\n",
              "73 2020-06-13  15947\n",
              "74 2020-06-14  16881"
            ]
          },
          "metadata": {
            "tags": []
          },
          "execution_count": 353
        }
      ]
    },
    {
      "cell_type": "code",
      "metadata": {
        "id": "1O5QemlaHm2g",
        "colab_type": "code",
        "colab": {
          "base_uri": "https://localhost:8080/",
          "height": 229
        },
        "outputId": "436386ea-04df-4997-ad4d-7da4d474e6d3"
      },
      "source": [
        "m = Prophet(interval_width=0.95)\n",
        "m.fit(recovered)\n",
        "future = m.make_future_dataframe(periods=5)\n",
        "future.tail()"
      ],
      "execution_count": 354,
      "outputs": [
        {
          "output_type": "stream",
          "text": [
            "INFO:fbprophet:Disabling yearly seasonality. Run prophet with yearly_seasonality=True to override this.\n",
            "INFO:fbprophet:Disabling daily seasonality. Run prophet with daily_seasonality=True to override this.\n"
          ],
          "name": "stderr"
        },
        {
          "output_type": "execute_result",
          "data": {
            "text/html": [
              "<div>\n",
              "<style scoped>\n",
              "    .dataframe tbody tr th:only-of-type {\n",
              "        vertical-align: middle;\n",
              "    }\n",
              "\n",
              "    .dataframe tbody tr th {\n",
              "        vertical-align: top;\n",
              "    }\n",
              "\n",
              "    .dataframe thead th {\n",
              "        text-align: right;\n",
              "    }\n",
              "</style>\n",
              "<table border=\"1\" class=\"dataframe\">\n",
              "  <thead>\n",
              "    <tr style=\"text-align: right;\">\n",
              "      <th></th>\n",
              "      <th>ds</th>\n",
              "    </tr>\n",
              "  </thead>\n",
              "  <tbody>\n",
              "    <tr>\n",
              "      <th>75</th>\n",
              "      <td>2020-06-15</td>\n",
              "    </tr>\n",
              "    <tr>\n",
              "      <th>76</th>\n",
              "      <td>2020-06-16</td>\n",
              "    </tr>\n",
              "    <tr>\n",
              "      <th>77</th>\n",
              "      <td>2020-06-17</td>\n",
              "    </tr>\n",
              "    <tr>\n",
              "      <th>78</th>\n",
              "      <td>2020-06-18</td>\n",
              "    </tr>\n",
              "    <tr>\n",
              "      <th>79</th>\n",
              "      <td>2020-06-19</td>\n",
              "    </tr>\n",
              "  </tbody>\n",
              "</table>\n",
              "</div>"
            ],
            "text/plain": [
              "           ds\n",
              "75 2020-06-15\n",
              "76 2020-06-16\n",
              "77 2020-06-17\n",
              "78 2020-06-18\n",
              "79 2020-06-19"
            ]
          },
          "metadata": {
            "tags": []
          },
          "execution_count": 354
        }
      ]
    },
    {
      "cell_type": "code",
      "metadata": {
        "id": "GIFSH3-cHm0r",
        "colab_type": "code",
        "colab": {
          "base_uri": "https://localhost:8080/",
          "height": 195
        },
        "outputId": "d593b0fb-ca6d-47cb-ef84-a1a47038e0a2"
      },
      "source": [
        "forecast = m.predict(future)\n",
        "forecast[['ds', 'trend','yhat', 'yhat_lower', 'yhat_upper']].tail()"
      ],
      "execution_count": 355,
      "outputs": [
        {
          "output_type": "execute_result",
          "data": {
            "text/html": [
              "<div>\n",
              "<style scoped>\n",
              "    .dataframe tbody tr th:only-of-type {\n",
              "        vertical-align: middle;\n",
              "    }\n",
              "\n",
              "    .dataframe tbody tr th {\n",
              "        vertical-align: top;\n",
              "    }\n",
              "\n",
              "    .dataframe thead th {\n",
              "        text-align: right;\n",
              "    }\n",
              "</style>\n",
              "<table border=\"1\" class=\"dataframe\">\n",
              "  <thead>\n",
              "    <tr style=\"text-align: right;\">\n",
              "      <th></th>\n",
              "      <th>ds</th>\n",
              "      <th>trend</th>\n",
              "      <th>yhat</th>\n",
              "      <th>yhat_lower</th>\n",
              "      <th>yhat_upper</th>\n",
              "    </tr>\n",
              "  </thead>\n",
              "  <tbody>\n",
              "    <tr>\n",
              "      <th>75</th>\n",
              "      <td>2020-06-15</td>\n",
              "      <td>15898.495837</td>\n",
              "      <td>15807.252875</td>\n",
              "      <td>15128.819411</td>\n",
              "      <td>16483.280417</td>\n",
              "    </tr>\n",
              "    <tr>\n",
              "      <th>76</th>\n",
              "      <td>2020-06-16</td>\n",
              "      <td>16447.075939</td>\n",
              "      <td>16328.236968</td>\n",
              "      <td>15608.018851</td>\n",
              "      <td>16968.918774</td>\n",
              "    </tr>\n",
              "    <tr>\n",
              "      <th>77</th>\n",
              "      <td>2020-06-17</td>\n",
              "      <td>16995.656040</td>\n",
              "      <td>16939.144464</td>\n",
              "      <td>16283.713376</td>\n",
              "      <td>17595.316669</td>\n",
              "    </tr>\n",
              "    <tr>\n",
              "      <th>78</th>\n",
              "      <td>2020-06-18</td>\n",
              "      <td>17544.236142</td>\n",
              "      <td>17510.908532</td>\n",
              "      <td>16851.084399</td>\n",
              "      <td>18116.310668</td>\n",
              "    </tr>\n",
              "    <tr>\n",
              "      <th>79</th>\n",
              "      <td>2020-06-19</td>\n",
              "      <td>18092.816243</td>\n",
              "      <td>18149.286056</td>\n",
              "      <td>17516.013575</td>\n",
              "      <td>18876.152234</td>\n",
              "    </tr>\n",
              "  </tbody>\n",
              "</table>\n",
              "</div>"
            ],
            "text/plain": [
              "           ds         trend          yhat    yhat_lower    yhat_upper\n",
              "75 2020-06-15  15898.495837  15807.252875  15128.819411  16483.280417\n",
              "76 2020-06-16  16447.075939  16328.236968  15608.018851  16968.918774\n",
              "77 2020-06-17  16995.656040  16939.144464  16283.713376  17595.316669\n",
              "78 2020-06-18  17544.236142  17510.908532  16851.084399  18116.310668\n",
              "79 2020-06-19  18092.816243  18149.286056  17516.013575  18876.152234"
            ]
          },
          "metadata": {
            "tags": []
          },
          "execution_count": 355
        }
      ]
    },
    {
      "cell_type": "code",
      "metadata": {
        "id": "rg0-EM37a4wk",
        "colab_type": "code",
        "colab": {
          "base_uri": "https://localhost:8080/",
          "height": 299
        },
        "outputId": "5b55615d-0dfc-4fc5-d25f-bdc7711d04fb"
      },
      "source": [
        "forecast.rename(columns={'trend': 'recovered'}, inplace=True)\n",
        "forecast.head()"
      ],
      "execution_count": 356,
      "outputs": [
        {
          "output_type": "execute_result",
          "data": {
            "text/html": [
              "<div>\n",
              "<style scoped>\n",
              "    .dataframe tbody tr th:only-of-type {\n",
              "        vertical-align: middle;\n",
              "    }\n",
              "\n",
              "    .dataframe tbody tr th {\n",
              "        vertical-align: top;\n",
              "    }\n",
              "\n",
              "    .dataframe thead th {\n",
              "        text-align: right;\n",
              "    }\n",
              "</style>\n",
              "<table border=\"1\" class=\"dataframe\">\n",
              "  <thead>\n",
              "    <tr style=\"text-align: right;\">\n",
              "      <th></th>\n",
              "      <th>ds</th>\n",
              "      <th>recovered</th>\n",
              "      <th>yhat_lower</th>\n",
              "      <th>yhat_upper</th>\n",
              "      <th>trend_lower</th>\n",
              "      <th>trend_upper</th>\n",
              "      <th>additive_terms</th>\n",
              "      <th>additive_terms_lower</th>\n",
              "      <th>additive_terms_upper</th>\n",
              "      <th>weekly</th>\n",
              "      <th>weekly_lower</th>\n",
              "      <th>weekly_upper</th>\n",
              "      <th>multiplicative_terms</th>\n",
              "      <th>multiplicative_terms_lower</th>\n",
              "      <th>multiplicative_terms_upper</th>\n",
              "      <th>yhat</th>\n",
              "    </tr>\n",
              "  </thead>\n",
              "  <tbody>\n",
              "    <tr>\n",
              "      <th>0</th>\n",
              "      <td>2020-04-01</td>\n",
              "      <td>-13.714359</td>\n",
              "      <td>-669.660684</td>\n",
              "      <td>607.893750</td>\n",
              "      <td>-13.714359</td>\n",
              "      <td>-13.714359</td>\n",
              "      <td>-56.511576</td>\n",
              "      <td>-56.511576</td>\n",
              "      <td>-56.511576</td>\n",
              "      <td>-56.511576</td>\n",
              "      <td>-56.511576</td>\n",
              "      <td>-56.511576</td>\n",
              "      <td>0.0</td>\n",
              "      <td>0.0</td>\n",
              "      <td>0.0</td>\n",
              "      <td>-70.225935</td>\n",
              "    </tr>\n",
              "    <tr>\n",
              "      <th>1</th>\n",
              "      <td>2020-04-02</td>\n",
              "      <td>0.498999</td>\n",
              "      <td>-657.321892</td>\n",
              "      <td>594.516117</td>\n",
              "      <td>0.498999</td>\n",
              "      <td>0.498999</td>\n",
              "      <td>-33.327609</td>\n",
              "      <td>-33.327609</td>\n",
              "      <td>-33.327609</td>\n",
              "      <td>-33.327609</td>\n",
              "      <td>-33.327609</td>\n",
              "      <td>-33.327609</td>\n",
              "      <td>0.0</td>\n",
              "      <td>0.0</td>\n",
              "      <td>0.0</td>\n",
              "      <td>-32.828610</td>\n",
              "    </tr>\n",
              "    <tr>\n",
              "      <th>2</th>\n",
              "      <td>2020-04-03</td>\n",
              "      <td>14.712357</td>\n",
              "      <td>-536.735674</td>\n",
              "      <td>682.012283</td>\n",
              "      <td>14.712357</td>\n",
              "      <td>14.712357</td>\n",
              "      <td>56.469813</td>\n",
              "      <td>56.469813</td>\n",
              "      <td>56.469813</td>\n",
              "      <td>56.469813</td>\n",
              "      <td>56.469813</td>\n",
              "      <td>56.469813</td>\n",
              "      <td>0.0</td>\n",
              "      <td>0.0</td>\n",
              "      <td>0.0</td>\n",
              "      <td>71.182170</td>\n",
              "    </tr>\n",
              "    <tr>\n",
              "      <th>3</th>\n",
              "      <td>2020-04-04</td>\n",
              "      <td>28.925715</td>\n",
              "      <td>-430.742302</td>\n",
              "      <td>796.456563</td>\n",
              "      <td>28.925715</td>\n",
              "      <td>28.925715</td>\n",
              "      <td>125.812683</td>\n",
              "      <td>125.812683</td>\n",
              "      <td>125.812683</td>\n",
              "      <td>125.812683</td>\n",
              "      <td>125.812683</td>\n",
              "      <td>125.812683</td>\n",
              "      <td>0.0</td>\n",
              "      <td>0.0</td>\n",
              "      <td>0.0</td>\n",
              "      <td>154.738399</td>\n",
              "    </tr>\n",
              "    <tr>\n",
              "      <th>4</th>\n",
              "      <td>2020-04-05</td>\n",
              "      <td>43.139074</td>\n",
              "      <td>-505.283390</td>\n",
              "      <td>769.753499</td>\n",
              "      <td>43.139074</td>\n",
              "      <td>43.139074</td>\n",
              "      <td>117.638623</td>\n",
              "      <td>117.638623</td>\n",
              "      <td>117.638623</td>\n",
              "      <td>117.638623</td>\n",
              "      <td>117.638623</td>\n",
              "      <td>117.638623</td>\n",
              "      <td>0.0</td>\n",
              "      <td>0.0</td>\n",
              "      <td>0.0</td>\n",
              "      <td>160.777697</td>\n",
              "    </tr>\n",
              "  </tbody>\n",
              "</table>\n",
              "</div>"
            ],
            "text/plain": [
              "          ds  recovered  ...  multiplicative_terms_upper        yhat\n",
              "0 2020-04-01 -13.714359  ...                         0.0  -70.225935\n",
              "1 2020-04-02   0.498999  ...                         0.0  -32.828610\n",
              "2 2020-04-03  14.712357  ...                         0.0   71.182170\n",
              "3 2020-04-04  28.925715  ...                         0.0  154.738399\n",
              "4 2020-04-05  43.139074  ...                         0.0  160.777697\n",
              "\n",
              "[5 rows x 16 columns]"
            ]
          },
          "metadata": {
            "tags": []
          },
          "execution_count": 356
        }
      ]
    },
    {
      "cell_type": "code",
      "metadata": {
        "id": "RBzmV5LNHmyi",
        "colab_type": "code",
        "colab": {}
      },
      "source": [
        "final3=forecast[['ds', 'recovered']].tail()"
      ],
      "execution_count": 357,
      "outputs": []
    },
    {
      "cell_type": "code",
      "metadata": {
        "id": "BuC3MqAVaqxA",
        "colab_type": "code",
        "colab": {
          "base_uri": "https://localhost:8080/",
          "height": 195
        },
        "outputId": "04585a9e-5807-4a4f-b056-bb56e8d820d0"
      },
      "source": [
        "final3.tail()"
      ],
      "execution_count": 358,
      "outputs": [
        {
          "output_type": "execute_result",
          "data": {
            "text/html": [
              "<div>\n",
              "<style scoped>\n",
              "    .dataframe tbody tr th:only-of-type {\n",
              "        vertical-align: middle;\n",
              "    }\n",
              "\n",
              "    .dataframe tbody tr th {\n",
              "        vertical-align: top;\n",
              "    }\n",
              "\n",
              "    .dataframe thead th {\n",
              "        text-align: right;\n",
              "    }\n",
              "</style>\n",
              "<table border=\"1\" class=\"dataframe\">\n",
              "  <thead>\n",
              "    <tr style=\"text-align: right;\">\n",
              "      <th></th>\n",
              "      <th>ds</th>\n",
              "      <th>recovered</th>\n",
              "    </tr>\n",
              "  </thead>\n",
              "  <tbody>\n",
              "    <tr>\n",
              "      <th>75</th>\n",
              "      <td>2020-06-15</td>\n",
              "      <td>15898.495837</td>\n",
              "    </tr>\n",
              "    <tr>\n",
              "      <th>76</th>\n",
              "      <td>2020-06-16</td>\n",
              "      <td>16447.075939</td>\n",
              "    </tr>\n",
              "    <tr>\n",
              "      <th>77</th>\n",
              "      <td>2020-06-17</td>\n",
              "      <td>16995.656040</td>\n",
              "    </tr>\n",
              "    <tr>\n",
              "      <th>78</th>\n",
              "      <td>2020-06-18</td>\n",
              "      <td>17544.236142</td>\n",
              "    </tr>\n",
              "    <tr>\n",
              "      <th>79</th>\n",
              "      <td>2020-06-19</td>\n",
              "      <td>18092.816243</td>\n",
              "    </tr>\n",
              "  </tbody>\n",
              "</table>\n",
              "</div>"
            ],
            "text/plain": [
              "           ds     recovered\n",
              "75 2020-06-15  15898.495837\n",
              "76 2020-06-16  16447.075939\n",
              "77 2020-06-17  16995.656040\n",
              "78 2020-06-18  17544.236142\n",
              "79 2020-06-19  18092.816243"
            ]
          },
          "metadata": {
            "tags": []
          },
          "execution_count": 358
        }
      ]
    },
    {
      "cell_type": "markdown",
      "metadata": {
        "id": "7iquCQqoIB98",
        "colab_type": "text"
      },
      "source": [
        "## Status Quo"
      ]
    },
    {
      "cell_type": "code",
      "metadata": {
        "id": "Jx1JDGOtcPIq",
        "colab_type": "code",
        "colab": {
          "base_uri": "https://localhost:8080/",
          "height": 353
        },
        "outputId": "96db5deb-f519-491c-c34d-c9487b09b213"
      },
      "source": [
        "print(final1.tail())\n",
        "print()\n",
        "print(final2.tail())\n",
        "print()\n",
        "print(final3.tail())"
      ],
      "execution_count": 359,
      "outputs": [
        {
          "output_type": "stream",
          "text": [
            "           ds     confirmed\n",
            "75 2020-06-15  31933.816660\n",
            "76 2020-06-16  33089.075814\n",
            "77 2020-06-17  34244.334968\n",
            "78 2020-06-18  35399.594122\n",
            "79 2020-06-19  36554.853276\n",
            "\n",
            "           ds    deceased\n",
            "75 2020-06-15  328.440372\n",
            "76 2020-06-16  341.950801\n",
            "77 2020-06-17  355.461229\n",
            "78 2020-06-18  368.971658\n",
            "79 2020-06-19  382.482086\n",
            "\n",
            "           ds     recovered\n",
            "75 2020-06-15  15898.495837\n",
            "76 2020-06-16  16447.075939\n",
            "77 2020-06-17  16995.656040\n",
            "78 2020-06-18  17544.236142\n",
            "79 2020-06-19  18092.816243\n"
          ],
          "name": "stdout"
        }
      ]
    },
    {
      "cell_type": "code",
      "metadata": {
        "id": "nUcS2WQ3fwCd",
        "colab_type": "code",
        "colab": {}
      },
      "source": [
        "final = pd.merge(final1, final2, on='ds')"
      ],
      "execution_count": 360,
      "outputs": []
    },
    {
      "cell_type": "code",
      "metadata": {
        "id": "OBX9z7WxgUge",
        "colab_type": "code",
        "colab": {}
      },
      "source": [
        "finals=pd.merge(final, final3, on='ds')"
      ],
      "execution_count": 361,
      "outputs": []
    },
    {
      "cell_type": "code",
      "metadata": {
        "id": "snQkBHuhgwLo",
        "colab_type": "code",
        "colab": {}
      },
      "source": [
        "finals.rename(columns={'ds': 'DATE'}, inplace=True)"
      ],
      "execution_count": 362,
      "outputs": []
    },
    {
      "cell_type": "code",
      "metadata": {
        "id": "-wYVBm_CgL6e",
        "colab_type": "code",
        "colab": {}
      },
      "source": [
        "finals.tail()"
      ],
      "execution_count": null,
      "outputs": []
    },
    {
      "cell_type": "code",
      "metadata": {
        "id": "35TqLxrr9XPK",
        "colab_type": "code",
        "colab": {}
      },
      "source": [
        "df= pd.read_excel('/content/chennai2.xlsx')\n",
        "df_chennai = df.copy()\n",
        "df"
      ],
      "execution_count": null,
      "outputs": []
    },
    {
      "cell_type": "markdown",
      "metadata": {
        "id": "MdIP-HtT46nv",
        "colab_type": "text"
      },
      "source": [
        "##OUTPUT"
      ]
    },
    {
      "cell_type": "code",
      "metadata": {
        "id": "vdg4QrIv49Dk",
        "colab_type": "code",
        "colab": {
          "base_uri": "https://localhost:8080/",
          "height": 195
        },
        "outputId": "3090eed2-542b-4a83-e1d9-a7a9167e7f61"
      },
      "source": [
        "#without lockdown\n",
        "df"
      ],
      "execution_count": 365,
      "outputs": [
        {
          "output_type": "execute_result",
          "data": {
            "text/html": [
              "<div>\n",
              "<style scoped>\n",
              "    .dataframe tbody tr th:only-of-type {\n",
              "        vertical-align: middle;\n",
              "    }\n",
              "\n",
              "    .dataframe tbody tr th {\n",
              "        vertical-align: top;\n",
              "    }\n",
              "\n",
              "    .dataframe thead th {\n",
              "        text-align: right;\n",
              "    }\n",
              "</style>\n",
              "<table border=\"1\" class=\"dataframe\">\n",
              "  <thead>\n",
              "    <tr style=\"text-align: right;\">\n",
              "      <th></th>\n",
              "      <th>DATE</th>\n",
              "      <th>confirmed</th>\n",
              "      <th>deceased</th>\n",
              "      <th>recovered</th>\n",
              "    </tr>\n",
              "  </thead>\n",
              "  <tbody>\n",
              "    <tr>\n",
              "      <th>0</th>\n",
              "      <td>2020-06-15</td>\n",
              "      <td>33244</td>\n",
              "      <td>379</td>\n",
              "      <td>14746</td>\n",
              "    </tr>\n",
              "    <tr>\n",
              "      <th>1</th>\n",
              "      <td>2020-06-16</td>\n",
              "      <td>34245</td>\n",
              "      <td>419</td>\n",
              "      <td>18565</td>\n",
              "    </tr>\n",
              "    <tr>\n",
              "      <th>2</th>\n",
              "      <td>2020-06-17</td>\n",
              "      <td>35556</td>\n",
              "      <td>458</td>\n",
              "      <td>19027</td>\n",
              "    </tr>\n",
              "    <tr>\n",
              "      <th>3</th>\n",
              "      <td>2020-06-18</td>\n",
              "      <td>37070</td>\n",
              "      <td>498</td>\n",
              "      <td>19686</td>\n",
              "    </tr>\n",
              "    <tr>\n",
              "      <th>4</th>\n",
              "      <td>2020-06-19</td>\n",
              "      <td>38327</td>\n",
              "      <td>526</td>\n",
              "      <td>21098</td>\n",
              "    </tr>\n",
              "  </tbody>\n",
              "</table>\n",
              "</div>"
            ],
            "text/plain": [
              "        DATE  confirmed  deceased  recovered\n",
              "0 2020-06-15      33244       379      14746\n",
              "1 2020-06-16      34245       419      18565\n",
              "2 2020-06-17      35556       458      19027\n",
              "3 2020-06-18      37070       498      19686\n",
              "4 2020-06-19      38327       526      21098"
            ]
          },
          "metadata": {
            "tags": []
          },
          "execution_count": 365
        }
      ]
    },
    {
      "cell_type": "code",
      "metadata": {
        "id": "P9EZDP7B5Jao",
        "colab_type": "code",
        "colab": {
          "base_uri": "https://localhost:8080/",
          "height": 195
        },
        "outputId": "ee810fbd-1beb-4c36-f49e-6899b79c8aa3"
      },
      "source": [
        "#with lockdown\n",
        "finals.tail()"
      ],
      "execution_count": 366,
      "outputs": [
        {
          "output_type": "execute_result",
          "data": {
            "text/html": [
              "<div>\n",
              "<style scoped>\n",
              "    .dataframe tbody tr th:only-of-type {\n",
              "        vertical-align: middle;\n",
              "    }\n",
              "\n",
              "    .dataframe tbody tr th {\n",
              "        vertical-align: top;\n",
              "    }\n",
              "\n",
              "    .dataframe thead th {\n",
              "        text-align: right;\n",
              "    }\n",
              "</style>\n",
              "<table border=\"1\" class=\"dataframe\">\n",
              "  <thead>\n",
              "    <tr style=\"text-align: right;\">\n",
              "      <th></th>\n",
              "      <th>DATE</th>\n",
              "      <th>confirmed</th>\n",
              "      <th>deceased</th>\n",
              "      <th>recovered</th>\n",
              "    </tr>\n",
              "  </thead>\n",
              "  <tbody>\n",
              "    <tr>\n",
              "      <th>0</th>\n",
              "      <td>2020-06-15</td>\n",
              "      <td>31933.816660</td>\n",
              "      <td>328.440372</td>\n",
              "      <td>15898.495837</td>\n",
              "    </tr>\n",
              "    <tr>\n",
              "      <th>1</th>\n",
              "      <td>2020-06-16</td>\n",
              "      <td>33089.075814</td>\n",
              "      <td>341.950801</td>\n",
              "      <td>16447.075939</td>\n",
              "    </tr>\n",
              "    <tr>\n",
              "      <th>2</th>\n",
              "      <td>2020-06-17</td>\n",
              "      <td>34244.334968</td>\n",
              "      <td>355.461229</td>\n",
              "      <td>16995.656040</td>\n",
              "    </tr>\n",
              "    <tr>\n",
              "      <th>3</th>\n",
              "      <td>2020-06-18</td>\n",
              "      <td>35399.594122</td>\n",
              "      <td>368.971658</td>\n",
              "      <td>17544.236142</td>\n",
              "    </tr>\n",
              "    <tr>\n",
              "      <th>4</th>\n",
              "      <td>2020-06-19</td>\n",
              "      <td>36554.853276</td>\n",
              "      <td>382.482086</td>\n",
              "      <td>18092.816243</td>\n",
              "    </tr>\n",
              "  </tbody>\n",
              "</table>\n",
              "</div>"
            ],
            "text/plain": [
              "        DATE     confirmed    deceased     recovered\n",
              "0 2020-06-15  31933.816660  328.440372  15898.495837\n",
              "1 2020-06-16  33089.075814  341.950801  16447.075939\n",
              "2 2020-06-17  34244.334968  355.461229  16995.656040\n",
              "3 2020-06-18  35399.594122  368.971658  17544.236142\n",
              "4 2020-06-19  36554.853276  382.482086  18092.816243"
            ]
          },
          "metadata": {
            "tags": []
          },
          "execution_count": 366
        }
      ]
    }
  ]
}